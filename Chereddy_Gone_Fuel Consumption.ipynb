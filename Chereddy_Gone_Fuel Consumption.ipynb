{
 "cells": [
  {
   "cell_type": "markdown",
   "metadata": {
    "tags": []
   },
   "source": [
    "# Fuel Consumption"
   ]
  },
  {
   "cell_type": "markdown",
   "metadata": {
    "id": "EV6XJZdPc-L0"
   },
   "source": [
    "This is a regression problem. Please download the dataset as follows:"
   ]
  },
  {
   "cell_type": "code",
   "execution_count": 15,
   "metadata": {
    "colab": {
     "base_uri": "https://localhost:8080/"
    },
    "executionInfo": {
     "elapsed": 4462,
     "status": "ok",
     "timestamp": 1684044168896,
     "user": {
      "displayName": "Yalin Bastanlar",
      "userId": "07407514109940480382"
     },
     "user_tz": 240
    },
    "id": "-tc8MwhtznRu",
    "outputId": "a3e24534-1a7c-4ff4-8e8d-fbe7f6664e0b",
    "tags": []
   },
   "outputs": [
    {
     "name": "stdout",
     "output_type": "stream",
     "text": [
      "fatal: destination path 'DATA602repo' already exists and is not an empty directory.\n"
     ]
    }
   ],
   "source": [
    "!git clone https://github.com/cvrg-iyte/DATA602repo.git\n",
    "import pandas as pd\n",
    "names = ['mpg', 'cylinders', 'displacement', 'hp', 'weight', 'acc', 'year', 'origin', 'carname']\n",
    "data = pd.read_csv(\"./DATA602repo/fuel-consumption.data\", delim_whitespace=True, names=names)"
   ]
  },
  {
   "cell_type": "markdown",
   "metadata": {
    "id": "H2GHIklkeuMn"
   },
   "source": [
    "Aim is to predict miles per gallon (mpg) fuel consumption for vehicles. Thus, mpg column is your target variable. You need to predict mpg as close as possible with the provided variables (you do not have to use all the variables)."
   ]
  },
  {
   "cell_type": "markdown",
   "metadata": {
    "id": "qm9C4e1yQQrK"
   },
   "source": [
    "First, start by analyzing the dataset for numerical and non-numerical values, if it contains values between different ranges and if it has any missing values.\n",
    "You may need to preprocess the dataset to ensure that we are only feeding numerical values to the machine learning model for predictions."
   ]
  },
  {
   "cell_type": "markdown",
   "metadata": {
    "id": "KH4LFrk5iXsf"
   },
   "source": [
    "You are expected to try several regression methods we have seen in the lectures (not only Linear Regression but also Support Vector Reg., Regresstion Trees etc.) and compare them. Also, you are supposed to apply best practices we have seen such as hyperparameter selection, cross validation and regularization."
   ]
  },
  {
   "cell_type": "code",
   "execution_count": 16,
   "metadata": {
    "colab": {
     "base_uri": "https://localhost:8080/",
     "height": 206
    },
    "executionInfo": {
     "elapsed": 11,
     "status": "ok",
     "timestamp": 1684003332006,
     "user": {
      "displayName": "Yalin Bastanlar",
      "userId": "07407514109940480382"
     },
     "user_tz": 240
    },
    "id": "a-wyIUnIa3XS",
    "outputId": "2c12177c-cace-4a8a-cce2-077abaf088f6",
    "tags": []
   },
   "outputs": [
    {
     "data": {
      "text/html": [
       "<div>\n",
       "<style scoped>\n",
       "    .dataframe tbody tr th:only-of-type {\n",
       "        vertical-align: middle;\n",
       "    }\n",
       "\n",
       "    .dataframe tbody tr th {\n",
       "        vertical-align: top;\n",
       "    }\n",
       "\n",
       "    .dataframe thead th {\n",
       "        text-align: right;\n",
       "    }\n",
       "</style>\n",
       "<table border=\"1\" class=\"dataframe\">\n",
       "  <thead>\n",
       "    <tr style=\"text-align: right;\">\n",
       "      <th></th>\n",
       "      <th>mpg</th>\n",
       "      <th>cylinders</th>\n",
       "      <th>displacement</th>\n",
       "      <th>hp</th>\n",
       "      <th>weight</th>\n",
       "      <th>acc</th>\n",
       "      <th>year</th>\n",
       "      <th>origin</th>\n",
       "      <th>carname</th>\n",
       "    </tr>\n",
       "  </thead>\n",
       "  <tbody>\n",
       "    <tr>\n",
       "      <th>0</th>\n",
       "      <td>18.0</td>\n",
       "      <td>8</td>\n",
       "      <td>307.0</td>\n",
       "      <td>130.0</td>\n",
       "      <td>3504.0</td>\n",
       "      <td>12.0</td>\n",
       "      <td>70</td>\n",
       "      <td>1</td>\n",
       "      <td>chevrolet chevelle malibu</td>\n",
       "    </tr>\n",
       "    <tr>\n",
       "      <th>1</th>\n",
       "      <td>15.0</td>\n",
       "      <td>8</td>\n",
       "      <td>350.0</td>\n",
       "      <td>165.0</td>\n",
       "      <td>3693.0</td>\n",
       "      <td>11.5</td>\n",
       "      <td>70</td>\n",
       "      <td>1</td>\n",
       "      <td>buick skylark 320</td>\n",
       "    </tr>\n",
       "    <tr>\n",
       "      <th>2</th>\n",
       "      <td>18.0</td>\n",
       "      <td>8</td>\n",
       "      <td>318.0</td>\n",
       "      <td>150.0</td>\n",
       "      <td>3436.0</td>\n",
       "      <td>11.0</td>\n",
       "      <td>70</td>\n",
       "      <td>1</td>\n",
       "      <td>plymouth satellite</td>\n",
       "    </tr>\n",
       "    <tr>\n",
       "      <th>3</th>\n",
       "      <td>16.0</td>\n",
       "      <td>8</td>\n",
       "      <td>304.0</td>\n",
       "      <td>150.0</td>\n",
       "      <td>3433.0</td>\n",
       "      <td>12.0</td>\n",
       "      <td>70</td>\n",
       "      <td>1</td>\n",
       "      <td>amc rebel sst</td>\n",
       "    </tr>\n",
       "    <tr>\n",
       "      <th>4</th>\n",
       "      <td>17.0</td>\n",
       "      <td>8</td>\n",
       "      <td>302.0</td>\n",
       "      <td>140.0</td>\n",
       "      <td>3449.0</td>\n",
       "      <td>10.5</td>\n",
       "      <td>70</td>\n",
       "      <td>1</td>\n",
       "      <td>ford torino</td>\n",
       "    </tr>\n",
       "  </tbody>\n",
       "</table>\n",
       "</div>"
      ],
      "text/plain": [
       "    mpg  cylinders  displacement     hp  weight   acc  year  origin  \\\n",
       "0  18.0          8         307.0  130.0  3504.0  12.0    70       1   \n",
       "1  15.0          8         350.0  165.0  3693.0  11.5    70       1   \n",
       "2  18.0          8         318.0  150.0  3436.0  11.0    70       1   \n",
       "3  16.0          8         304.0  150.0  3433.0  12.0    70       1   \n",
       "4  17.0          8         302.0  140.0  3449.0  10.5    70       1   \n",
       "\n",
       "                     carname  \n",
       "0  chevrolet chevelle malibu  \n",
       "1          buick skylark 320  \n",
       "2         plymouth satellite  \n",
       "3              amc rebel sst  \n",
       "4                ford torino  "
      ]
     },
     "execution_count": 16,
     "metadata": {},
     "output_type": "execute_result"
    }
   ],
   "source": [
    "data.head(5)"
   ]
  },
  {
   "cell_type": "markdown",
   "metadata": {},
   "source": [
    "# Analyzing the dataset for numerical and non-numerical values, checking for value ranges, and identifying missing values:"
   ]
  },
  {
   "cell_type": "code",
   "execution_count": 17,
   "metadata": {
    "tags": []
   },
   "outputs": [
    {
     "name": "stdout",
     "output_type": "stream",
     "text": [
      "First few rows of the dataset:\n",
      "    mpg  cylinders  displacement     hp  weight   acc  year  origin  \\\n",
      "0  18.0          8         307.0  130.0  3504.0  12.0    70       1   \n",
      "1  15.0          8         350.0  165.0  3693.0  11.5    70       1   \n",
      "2  18.0          8         318.0  150.0  3436.0  11.0    70       1   \n",
      "3  16.0          8         304.0  150.0  3433.0  12.0    70       1   \n",
      "4  17.0          8         302.0  140.0  3449.0  10.5    70       1   \n",
      "\n",
      "                     carname  \n",
      "0  chevrolet chevelle malibu  \n",
      "1          buick skylark 320  \n",
      "2         plymouth satellite  \n",
      "3              amc rebel sst  \n",
      "4                ford torino  \n",
      "\n",
      "Summary statistics for numerical columns:\n",
      "              mpg   cylinders  displacement       weight         acc  \\\n",
      "count  398.000000  398.000000    398.000000   398.000000  398.000000   \n",
      "mean    23.514573    5.454774    193.425879  2970.424623   15.568090   \n",
      "std      7.815984    1.701004    104.269838   846.841774    2.757689   \n",
      "min      9.000000    3.000000     68.000000  1613.000000    8.000000   \n",
      "25%     17.500000    4.000000    104.250000  2223.750000   13.825000   \n",
      "50%     23.000000    4.000000    148.500000  2803.500000   15.500000   \n",
      "75%     29.000000    8.000000    262.000000  3608.000000   17.175000   \n",
      "max     46.600000    8.000000    455.000000  5140.000000   24.800000   \n",
      "\n",
      "             year      origin  \n",
      "count  398.000000  398.000000  \n",
      "mean    76.010050    1.572864  \n",
      "std      3.697627    0.802055  \n",
      "min     70.000000    1.000000  \n",
      "25%     73.000000    1.000000  \n",
      "50%     76.000000    1.000000  \n",
      "75%     79.000000    2.000000  \n",
      "max     82.000000    3.000000  \n",
      "\n",
      "Information about the dataset:\n",
      "<class 'pandas.core.frame.DataFrame'>\n",
      "RangeIndex: 398 entries, 0 to 397\n",
      "Data columns (total 9 columns):\n",
      " #   Column        Non-Null Count  Dtype  \n",
      "---  ------        --------------  -----  \n",
      " 0   mpg           398 non-null    float64\n",
      " 1   cylinders     398 non-null    int64  \n",
      " 2   displacement  398 non-null    float64\n",
      " 3   hp            398 non-null    object \n",
      " 4   weight        398 non-null    float64\n",
      " 5   acc           398 non-null    float64\n",
      " 6   year          398 non-null    int64  \n",
      " 7   origin        398 non-null    int64  \n",
      " 8   carname       398 non-null    object \n",
      "dtypes: float64(4), int64(3), object(2)\n",
      "memory usage: 28.1+ KB\n",
      "None\n",
      "\n",
      "Missing values in the dataset:\n",
      "mpg             0\n",
      "cylinders       0\n",
      "displacement    0\n",
      "hp              0\n",
      "weight          0\n",
      "acc             0\n",
      "year            0\n",
      "origin          0\n",
      "carname         0\n",
      "dtype: int64\n",
      "\n",
      "Unique values in non-numerical columns:\n",
      "hp: ['130.0' '165.0' '150.0' '140.0' '198.0' '220.0' '215.0' '225.0' '190.0'\n",
      " '170.0' '160.0' '95.00' '97.00' '85.00' '88.00' '46.00' '87.00' '90.00'\n",
      " '113.0' '200.0' '210.0' '193.0' '?' '100.0' '105.0' '175.0' '153.0'\n",
      " '180.0' '110.0' '72.00' '86.00' '70.00' '76.00' '65.00' '69.00' '60.00'\n",
      " '80.00' '54.00' '208.0' '155.0' '112.0' '92.00' '145.0' '137.0' '158.0'\n",
      " '167.0' '94.00' '107.0' '230.0' '49.00' '75.00' '91.00' '122.0' '67.00'\n",
      " '83.00' '78.00' '52.00' '61.00' '93.00' '148.0' '129.0' '96.00' '71.00'\n",
      " '98.00' '115.0' '53.00' '81.00' '79.00' '120.0' '152.0' '102.0' '108.0'\n",
      " '68.00' '58.00' '149.0' '89.00' '63.00' '48.00' '66.00' '139.0' '103.0'\n",
      " '125.0' '133.0' '138.0' '135.0' '142.0' '77.00' '62.00' '132.0' '84.00'\n",
      " '64.00' '74.00' '116.0' '82.00']\n",
      "carname: ['chevrolet chevelle malibu' 'buick skylark 320' 'plymouth satellite'\n",
      " 'amc rebel sst' 'ford torino' 'ford galaxie 500' 'chevrolet impala'\n",
      " 'plymouth fury iii' 'pontiac catalina' 'amc ambassador dpl'\n",
      " 'dodge challenger se' \"plymouth 'cuda 340\" 'chevrolet monte carlo'\n",
      " 'buick estate wagon (sw)' 'toyota corona mark ii' 'plymouth duster'\n",
      " 'amc hornet' 'ford maverick' 'datsun pl510'\n",
      " 'volkswagen 1131 deluxe sedan' 'peugeot 504' 'audi 100 ls' 'saab 99e'\n",
      " 'bmw 2002' 'amc gremlin' 'ford f250' 'chevy c20' 'dodge d200' 'hi 1200d'\n",
      " 'chevrolet vega 2300' 'toyota corona' 'ford pinto'\n",
      " 'plymouth satellite custom' 'ford torino 500' 'amc matador'\n",
      " 'pontiac catalina brougham' 'dodge monaco (sw)'\n",
      " 'ford country squire (sw)' 'pontiac safari (sw)'\n",
      " 'amc hornet sportabout (sw)' 'chevrolet vega (sw)' 'pontiac firebird'\n",
      " 'ford mustang' 'mercury capri 2000' 'opel 1900' 'peugeot 304' 'fiat 124b'\n",
      " 'toyota corolla 1200' 'datsun 1200' 'volkswagen model 111'\n",
      " 'plymouth cricket' 'toyota corona hardtop' 'dodge colt hardtop'\n",
      " 'volkswagen type 3' 'chevrolet vega' 'ford pinto runabout'\n",
      " 'amc ambassador sst' 'mercury marquis' 'buick lesabre custom'\n",
      " 'oldsmobile delta 88 royale' 'chrysler newport royal' 'mazda rx2 coupe'\n",
      " 'amc matador (sw)' 'chevrolet chevelle concours (sw)'\n",
      " 'ford gran torino (sw)' 'plymouth satellite custom (sw)'\n",
      " 'volvo 145e (sw)' 'volkswagen 411 (sw)' 'peugeot 504 (sw)'\n",
      " 'renault 12 (sw)' 'ford pinto (sw)' 'datsun 510 (sw)'\n",
      " 'toyouta corona mark ii (sw)' 'dodge colt (sw)'\n",
      " 'toyota corolla 1600 (sw)' 'buick century 350' 'chevrolet malibu'\n",
      " 'ford gran torino' 'dodge coronet custom' 'mercury marquis brougham'\n",
      " 'chevrolet caprice classic' 'ford ltd' 'plymouth fury gran sedan'\n",
      " 'chrysler new yorker brougham' 'buick electra 225 custom'\n",
      " 'amc ambassador brougham' 'plymouth valiant' 'chevrolet nova custom'\n",
      " 'volkswagen super beetle' 'ford country' 'plymouth custom suburb'\n",
      " 'oldsmobile vista cruiser' 'toyota carina' 'datsun 610' 'maxda rx3'\n",
      " 'mercury capri v6' 'fiat 124 sport coupe' 'chevrolet monte carlo s'\n",
      " 'pontiac grand prix' 'fiat 128' 'opel manta' 'audi 100ls' 'volvo 144ea'\n",
      " 'dodge dart custom' 'saab 99le' 'toyota mark ii' 'oldsmobile omega'\n",
      " 'chevrolet nova' 'datsun b210' 'chevrolet chevelle malibu classic'\n",
      " 'plymouth satellite sebring' 'buick century luxus (sw)'\n",
      " 'dodge coronet custom (sw)' 'audi fox' 'volkswagen dasher' 'datsun 710'\n",
      " 'dodge colt' 'fiat 124 tc' 'honda civic' 'subaru' 'fiat x1.9'\n",
      " 'plymouth valiant custom' 'mercury monarch' 'chevrolet bel air'\n",
      " 'plymouth grand fury' 'buick century' 'chevroelt chevelle malibu'\n",
      " 'plymouth fury' 'buick skyhawk' 'chevrolet monza 2+2' 'ford mustang ii'\n",
      " 'toyota corolla' 'pontiac astro' 'volkswagen rabbit' 'amc pacer'\n",
      " 'volvo 244dl' 'honda civic cvcc' 'fiat 131' 'capri ii' 'renault 12tl'\n",
      " 'dodge coronet brougham' 'chevrolet chevette' 'chevrolet woody'\n",
      " 'vw rabbit' 'dodge aspen se' 'ford granada ghia' 'pontiac ventura sj'\n",
      " 'amc pacer d/l' 'datsun b-210' 'volvo 245' 'plymouth volare premier v8'\n",
      " 'mercedes-benz 280s' 'cadillac seville' 'chevy c10' 'ford f108'\n",
      " 'dodge d100' 'honda accord cvcc' 'buick opel isuzu deluxe'\n",
      " 'renault 5 gtl' 'plymouth arrow gs' 'datsun f-10 hatchback'\n",
      " 'oldsmobile cutlass supreme' 'dodge monaco brougham'\n",
      " 'mercury cougar brougham' 'chevrolet concours' 'buick skylark'\n",
      " 'plymouth volare custom' 'ford granada' 'pontiac grand prix lj'\n",
      " 'chevrolet monte carlo landau' 'chrysler cordoba' 'ford thunderbird'\n",
      " 'volkswagen rabbit custom' 'pontiac sunbird coupe'\n",
      " 'toyota corolla liftback' 'ford mustang ii 2+2' 'dodge colt m/m'\n",
      " 'subaru dl' 'datsun 810' 'bmw 320i' 'mazda rx-4'\n",
      " 'volkswagen rabbit custom diesel' 'ford fiesta' 'mazda glc deluxe'\n",
      " 'datsun b210 gx' 'oldsmobile cutlass salon brougham' 'dodge diplomat'\n",
      " 'mercury monarch ghia' 'pontiac phoenix lj' 'ford fairmont (auto)'\n",
      " 'ford fairmont (man)' 'plymouth volare' 'amc concord'\n",
      " 'buick century special' 'mercury zephyr' 'dodge aspen' 'amc concord d/l'\n",
      " 'buick regal sport coupe (turbo)' 'ford futura' 'dodge magnum xe'\n",
      " 'datsun 510' 'dodge omni' 'toyota celica gt liftback' 'plymouth sapporo'\n",
      " 'oldsmobile starfire sx' 'datsun 200-sx' 'audi 5000' 'volvo 264gl'\n",
      " 'saab 99gle' 'peugeot 604sl' 'volkswagen scirocco' 'honda accord lx'\n",
      " 'pontiac lemans v6' 'mercury zephyr 6' 'ford fairmont 4'\n",
      " 'amc concord dl 6' 'dodge aspen 6' 'ford ltd landau'\n",
      " 'mercury grand marquis' 'dodge st. regis' 'chevrolet malibu classic (sw)'\n",
      " 'chrysler lebaron town @ country (sw)' 'vw rabbit custom'\n",
      " 'maxda glc deluxe' 'dodge colt hatchback custom' 'amc spirit dl'\n",
      " 'mercedes benz 300d' 'cadillac eldorado' 'plymouth horizon'\n",
      " 'plymouth horizon tc3' 'datsun 210' 'fiat strada custom'\n",
      " 'buick skylark limited' 'chevrolet citation' 'oldsmobile omega brougham'\n",
      " 'pontiac phoenix' 'toyota corolla tercel' 'datsun 310' 'ford fairmont'\n",
      " 'audi 4000' 'toyota corona liftback' 'mazda 626' 'datsun 510 hatchback'\n",
      " 'mazda glc' 'vw rabbit c (diesel)' 'vw dasher (diesel)'\n",
      " 'audi 5000s (diesel)' 'mercedes-benz 240d' 'honda civic 1500 gl'\n",
      " 'renault lecar deluxe' 'vokswagen rabbit' 'datsun 280-zx' 'mazda rx-7 gs'\n",
      " 'triumph tr7 coupe' 'ford mustang cobra' 'honda accord'\n",
      " 'plymouth reliant' 'dodge aries wagon (sw)' 'toyota starlet'\n",
      " 'plymouth champ' 'honda civic 1300' 'datsun 210 mpg' 'toyota tercel'\n",
      " 'mazda glc 4' 'plymouth horizon 4' 'ford escort 4w' 'ford escort 2h'\n",
      " 'volkswagen jetta' 'renault 18i' 'honda prelude' 'datsun 200sx'\n",
      " 'peugeot 505s turbo diesel' 'volvo diesel' 'toyota cressida'\n",
      " 'datsun 810 maxima' 'oldsmobile cutlass ls' 'ford granada gl'\n",
      " 'chrysler lebaron salon' 'chevrolet cavalier' 'chevrolet cavalier wagon'\n",
      " 'chevrolet cavalier 2-door' 'pontiac j2000 se hatchback' 'dodge aries se'\n",
      " 'ford fairmont futura' 'amc concord dl' 'volkswagen rabbit l'\n",
      " 'mazda glc custom l' 'mazda glc custom' 'plymouth horizon miser'\n",
      " 'mercury lynx l' 'nissan stanza xe' 'honda civic (auto)' 'datsun 310 gx'\n",
      " 'buick century limited' 'oldsmobile cutlass ciera (diesel)'\n",
      " 'chrysler lebaron medallion' 'ford granada l' 'toyota celica gt'\n",
      " 'dodge charger 2.2' 'chevrolet camaro' 'ford mustang gl' 'vw pickup'\n",
      " 'dodge rampage' 'ford ranger' 'chevy s-10']\n",
      "\n",
      "Value ranges for numerical columns:\n",
      "mpg: Min=9.0, Max=46.6\n",
      "cylinders: Min=3, Max=8\n",
      "displacement: Min=68.0, Max=455.0\n",
      "weight: Min=1613.0, Max=5140.0\n",
      "acc: Min=8.0, Max=24.8\n",
      "year: Min=70, Max=82\n",
      "origin: Min=1, Max=3\n"
     ]
    }
   ],
   "source": [
    "import pandas as pd\n",
    "\n",
    "# Load the dataset\n",
    "names = ['mpg', 'cylinders', 'displacement', 'hp', 'weight', 'acc', 'year', 'origin', 'carname']\n",
    "data = pd.read_csv(\"./DATA602repo/fuel-consumption.data\", delim_whitespace=True, names=names)\n",
    "\n",
    "# Display the first few rows of the dataset\n",
    "print(\"First few rows of the dataset:\")\n",
    "print(data.head())\n",
    "\n",
    "# Summary statistics for numerical columns\n",
    "print(\"\\nSummary statistics for numerical columns:\")\n",
    "print(data.describe())\n",
    "\n",
    "# Information about the dataset, including data types and non-null counts\n",
    "print(\"\\nInformation about the dataset:\")\n",
    "print(data.info())\n",
    "\n",
    "# Check for missing values\n",
    "print(\"\\nMissing values in the dataset:\")\n",
    "print(data.isnull().sum())\n",
    "\n",
    "# Check unique values in non-numerical columns\n",
    "non_numeric_columns = data.select_dtypes(exclude='number').columns\n",
    "print(\"\\nUnique values in non-numerical columns:\")\n",
    "for column in non_numeric_columns:\n",
    "    unique_values = data[column].unique()\n",
    "    print(f\"{column}: {unique_values}\")\n",
    "\n",
    "# Check value ranges for numerical columns\n",
    "print(\"\\nValue ranges for numerical columns:\")\n",
    "for column in data.columns:\n",
    "    if pd.api.types.is_numeric_dtype(data[column]):\n",
    "        min_value = data[column].min()\n",
    "        max_value = data[column].max()\n",
    "        print(f\"{column}: Min={min_value}, Max={max_value}\")\n"
   ]
  },
  {
   "cell_type": "markdown",
   "metadata": {},
   "source": [
    "# Preprocess the dataset:"
   ]
  },
  {
   "cell_type": "code",
   "execution_count": 18,
   "metadata": {
    "tags": []
   },
   "outputs": [],
   "source": [
    "import pandas as pd\n",
    "from sklearn.model_selection import train_test_split\n",
    "\n",
    "# Load the dataset\n",
    "names = ['mpg', 'cylinders', 'displacement', 'hp', 'weight', 'acc', 'year', 'origin', 'carname']\n",
    "data = pd.read_csv(\"./DATA602repo/fuel-consumption.data\", delim_whitespace=True, names=names)\n",
    "\n",
    "# Drop non-numeric columns (e.g., 'carname') for simplicity\n",
    "data_numeric = data.drop(['carname'], axis=1)\n",
    "\n",
    "# Convert non-numeric columns to numeric or handle them appropriately\n",
    "# if 'hp' column has non-numeric values, convert them to NaN and then fill missing values\n",
    "data_numeric['hp'] = pd.to_numeric(data_numeric['hp'], errors='coerce')\n",
    "\n",
    "# Handle missing values by imputing with mean or any other strategy\n",
    "data_numeric.fillna(data_numeric.mean(numeric_only=True), inplace=True)\n",
    "\n",
    "# Split the data into features (X) and the target variable (y)\n",
    "X = data_numeric.drop(['mpg'], axis=1)\n",
    "y = data_numeric['mpg']\n",
    "\n",
    "# Split the data into training and testing sets\n",
    "X_train, X_test, y_train, y_test = train_test_split(X, y, test_size=0.2, random_state=42)\n"
   ]
  },
  {
   "cell_type": "markdown",
   "metadata": {},
   "source": [
    "# Linear Regression:"
   ]
  },
  {
   "cell_type": "code",
   "execution_count": 19,
   "metadata": {
    "tags": []
   },
   "outputs": [
    {
     "name": "stdout",
     "output_type": "stream",
     "text": [
      "Linear Regression Mean Squared Error: 8.195452104073787\n"
     ]
    }
   ],
   "source": [
    "from sklearn.linear_model import LinearRegression\n",
    "from sklearn.metrics import mean_squared_error\n",
    "\n",
    "# Initialize the Linear Regression model\n",
    "linear_model = LinearRegression()\n",
    "\n",
    "# Fit the model on the training data\n",
    "linear_model.fit(X_train, y_train)\n",
    "\n",
    "# Predict on the test set\n",
    "linear_y_pred = linear_model.predict(X_test)\n",
    "\n",
    "# Evaluate the Linear Regression model\n",
    "linear_mse = mean_squared_error(y_test, linear_y_pred)\n",
    "print(f\"Linear Regression Mean Squared Error: {linear_mse}\")\n"
   ]
  },
  {
   "cell_type": "markdown",
   "metadata": {},
   "source": [
    "# Support Vector Regression (SVR):"
   ]
  },
  {
   "cell_type": "code",
   "execution_count": 20,
   "metadata": {
    "tags": []
   },
   "outputs": [
    {
     "name": "stdout",
     "output_type": "stream",
     "text": [
      "SVR Mean Squared Error: 6.815285840878874\n"
     ]
    }
   ],
   "source": [
    "from sklearn.svm import SVR\n",
    "from sklearn.preprocessing import StandardScaler\n",
    "from sklearn.pipeline import make_pipeline\n",
    "\n",
    "# Initialize the SVR model\n",
    "svr_model = make_pipeline(StandardScaler(), SVR())\n",
    "\n",
    "# Fit the model on the training data\n",
    "svr_model.fit(X_train, y_train)\n",
    "\n",
    "# Predict on the test set\n",
    "svr_y_pred = svr_model.predict(X_test)\n",
    "\n",
    "# Evaluate the SVR model\n",
    "svr_mse = mean_squared_error(y_test, svr_y_pred)\n",
    "print(f\"SVR Mean Squared Error: {svr_mse}\")\n"
   ]
  },
  {
   "cell_type": "markdown",
   "metadata": {},
   "source": [
    "# Decision Tree Regression:"
   ]
  },
  {
   "cell_type": "code",
   "execution_count": 21,
   "metadata": {
    "tags": []
   },
   "outputs": [
    {
     "name": "stdout",
     "output_type": "stream",
     "text": [
      "Decision Tree Mean Squared Error: 11.552125\n"
     ]
    }
   ],
   "source": [
    "from sklearn.tree import DecisionTreeRegressor\n",
    "\n",
    "# Initialize the Decision Tree model\n",
    "tree_model = DecisionTreeRegressor()\n",
    "\n",
    "# Fit the model on the training data\n",
    "tree_model.fit(X_train, y_train)\n",
    "\n",
    "# Predict on the test set\n",
    "tree_y_pred = tree_model.predict(X_test)\n",
    "\n",
    "# Evaluate the Decision Tree model\n",
    "tree_mse = mean_squared_error(y_test, tree_y_pred)\n",
    "print(f\"Decision Tree Mean Squared Error: {tree_mse}\")\n"
   ]
  },
  {
   "cell_type": "markdown",
   "metadata": {},
   "source": [
    "# CrossValidation and Hyperparameter Tuning (Ridge Regression)"
   ]
  },
  {
   "cell_type": "code",
   "execution_count": 22,
   "metadata": {
    "tags": []
   },
   "outputs": [
    {
     "name": "stdout",
     "output_type": "stream",
     "text": [
      "Ridge Regression Mean Squared Error: 8.245578921140924\n"
     ]
    }
   ],
   "source": [
    "from sklearn.model_selection import GridSearchCV\n",
    "from sklearn.linear_model import Ridge\n",
    "\n",
    "# Ridge Regression with hyperparameter tuning\n",
    "ridge_model = Ridge()\n",
    "param_grid = {'alpha': [0.1, 1, 10]}\n",
    "grid_search = GridSearchCV(ridge_model, param_grid, cv=5, scoring='neg_mean_squared_error')\n",
    "grid_search.fit(X_train, y_train)\n",
    "best_ridge_model = grid_search.best_estimator_\n",
    "\n",
    "# Predict on the test set\n",
    "ridge_y_pred = best_ridge_model.predict(X_test)\n",
    "\n",
    "# Evaluate the Ridge Regression model\n",
    "ridge_mse = mean_squared_error(y_test, ridge_y_pred)\n",
    "print(f\"Ridge Regression Mean Squared Error: {ridge_mse}\")\n"
   ]
  },
  {
   "cell_type": "markdown",
   "metadata": {},
   "source": [
    "# Model Comparision:"
   ]
  },
  {
   "cell_type": "code",
   "execution_count": 23,
   "metadata": {
    "tags": []
   },
   "outputs": [
    {
     "name": "stdout",
     "output_type": "stream",
     "text": [
      "Mean Squared Error for each model:\n",
      "Linear Regression: 8.195452104073787\n",
      "SVR: 6.815285840878874\n",
      "Decision Tree Regression: 11.343625\n",
      "Ridge Regression: 8.200657319077886\n"
     ]
    }
   ],
   "source": [
    "from sklearn.tree import DecisionTreeRegressor\n",
    "from sklearn.svm import SVR\n",
    "from sklearn.linear_model import LinearRegression, Ridge\n",
    "from sklearn.pipeline import make_pipeline\n",
    "from sklearn.preprocessing import StandardScaler\n",
    "from sklearn.model_selection import cross_val_score\n",
    "from sklearn.metrics import mean_squared_error\n",
    "import numpy as np\n",
    "\n",
    "# Linear Regression\n",
    "linear_model = LinearRegression()\n",
    "linear_model.fit(X_train, y_train)\n",
    "linear_y_pred = linear_model.predict(X_test)\n",
    "linear_mse = mean_squared_error(y_test, linear_y_pred)\n",
    "\n",
    "# Support Vector Regression (SVR)\n",
    "svr_model = make_pipeline(StandardScaler(), SVR())\n",
    "svr_model.fit(X_train, y_train)\n",
    "svr_y_pred = svr_model.predict(X_test)\n",
    "svr_mse = mean_squared_error(y_test, svr_y_pred)\n",
    "\n",
    "# Decision Tree Regression\n",
    "tree_model = DecisionTreeRegressor()\n",
    "tree_model.fit(X_train, y_train)\n",
    "tree_y_pred = tree_model.predict(X_test)\n",
    "tree_mse = mean_squared_error(y_test, tree_y_pred)\n",
    "\n",
    "# Ridge Regression with hyperparameter tuning\n",
    "ridge_model = Ridge(alpha=1)  # the best alpha found in the previous grid search\n",
    "ridge_model.fit(X_train, y_train)\n",
    "ridge_y_pred = ridge_model.predict(X_test)\n",
    "ridge_mse = mean_squared_error(y_test, ridge_y_pred)\n",
    "\n",
    "# Compare MSE of different models\n",
    "models_mse = {\n",
    "    'Linear Regression': linear_mse,\n",
    "    'SVR': svr_mse,\n",
    "    'Decision Tree Regression': tree_mse,\n",
    "    'Ridge Regression': ridge_mse\n",
    "}\n",
    "\n",
    "# Display MSE for each model\n",
    "print(\"Mean Squared Error for each model:\")\n",
    "for model, mse in models_mse.items():\n",
    "    print(f\"{model}: {mse}\")"
   ]
  },
  {
   "cell_type": "markdown",
   "metadata": {},
   "source": [
    "# Cross-Validation for Robust Comparision:"
   ]
  },
  {
   "cell_type": "code",
   "execution_count": 24,
   "metadata": {
    "tags": []
   },
   "outputs": [
    {
     "name": "stdout",
     "output_type": "stream",
     "text": [
      "\n",
      "Cross-validated Mean Squared Error for each model:\n",
      "LinearRegression: 15.114704491154868\n",
      "Pipeline: 13.927771016444803\n",
      "DecisionTreeRegressor: 15.12296170886076\n",
      "Ridge: 15.117027741351952\n"
     ]
    }
   ],
   "source": [
    "# cross-validation to get a more robust comparison\n",
    "def cross_val(model, X, y):\n",
    "    scores = cross_val_score(model, X, y, scoring='neg_mean_squared_error', cv=5)\n",
    "    return -scores.mean()\n",
    "\n",
    "# Compare cross-validated MSE\n",
    "print(\"\\nCross-validated Mean Squared Error for each model:\")\n",
    "for model in [linear_model, svr_model, tree_model, ridge_model]:\n",
    "    mse_cv = cross_val(model, X, y)\n",
    "    print(f\"{type(model).__name__}: {mse_cv}\")"
   ]
  },
  {
   "cell_type": "markdown",
   "metadata": {},
   "source": [
    "# Regularization:"
   ]
  },
  {
   "cell_type": "code",
   "execution_count": 25,
   "metadata": {
    "tags": []
   },
   "outputs": [
    {
     "name": "stdout",
     "output_type": "stream",
     "text": [
      "Mean Squared Error for each model:\n",
      "Linear Regression: 8.195452104073787\n",
      "SVR: 6.815285840878874\n",
      "Decision Tree Regression: 11.343625\n",
      "Ridge Regression: 8.200657319077886\n",
      "Ridge Regression (CV): 8.245578921140924\n",
      "\n",
      "Cross-validated Mean Squared Error for each model:\n",
      "LinearRegression: 15.114704491154868\n",
      "Pipeline: 13.927771016444803\n",
      "DecisionTreeRegressor: 14.239438291139242\n",
      "Ridge: 15.138583269787034\n"
     ]
    }
   ],
   "source": [
    "from sklearn.linear_model import RidgeCV\n",
    "from sklearn.model_selection import GridSearchCV\n",
    "\n",
    "# Ridge Regression with hyperparameter tuning using cross-validation\n",
    "ridge_cv_model = RidgeCV(alphas=[0.1, 1, 10], store_cv_values=True)\n",
    "ridge_cv_model.fit(X_train, y_train)\n",
    "\n",
    "# Best alpha selected by RidgeCV\n",
    "best_alpha = ridge_cv_model.alpha_\n",
    "\n",
    "# Ridge Regression with the best alpha\n",
    "ridge_model = Ridge(alpha=best_alpha)\n",
    "ridge_model.fit(X_train, y_train)\n",
    "ridge_y_pred = ridge_model.predict(X_test)\n",
    "ridge_mse = mean_squared_error(y_test, ridge_y_pred)\n",
    "\n",
    "# Compare MSE of different models (including Ridge with best alpha)\n",
    "models_mse['Ridge Regression (CV)'] = ridge_mse\n",
    "\n",
    "# Display MSE for each model\n",
    "print(\"Mean Squared Error for each model:\")\n",
    "for model, mse in models_mse.items():\n",
    "    print(f\"{model}: {mse}\")\n",
    "\n",
    "# Additionally, you can use cross-validation to get a more robust comparison\n",
    "print(\"\\nCross-validated Mean Squared Error for each model:\")\n",
    "for model in [linear_model, svr_model, tree_model, ridge_model]:\n",
    "    mse_cv = cross_val(model, X, y)\n",
    "    print(f\"{type(model).__name__}: {mse_cv}\")\n"
   ]
  },
  {
   "cell_type": "markdown",
   "metadata": {},
   "source": [
    "#  R-squared (R2):"
   ]
  },
  {
   "cell_type": "code",
   "execution_count": 26,
   "metadata": {
    "tags": []
   },
   "outputs": [
    {
     "name": "stdout",
     "output_type": "stream",
     "text": [
      "Linear Regression R2: 0.8475731044779433\n",
      "SVR R2: 0.8732427632266664\n",
      "Decision Tree R2: 0.7890203590041233\n",
      "Ridge Regression R2: 0.8466407977533214\n"
     ]
    }
   ],
   "source": [
    "from sklearn.metrics import r2_score\n",
    "\n",
    "# Calculate R2 for Linear Regression\n",
    "linear_r2 = r2_score(y_test, linear_y_pred)\n",
    "print(f\"Linear Regression R2: {linear_r2}\")\n",
    "\n",
    "# Calculate R2 for SVR\n",
    "svr_r2 = r2_score(y_test, svr_y_pred)\n",
    "print(f\"SVR R2: {svr_r2}\")\n",
    "\n",
    "# Calculate R2 for Decision Tree Regression\n",
    "tree_r2 = r2_score(y_test, tree_y_pred)\n",
    "print(f\"Decision Tree R2: {tree_r2}\")\n",
    "\n",
    "# Calculate R2 for Ridge Regression\n",
    "ridge_r2 = r2_score(y_test, ridge_y_pred)\n",
    "print(f\"Ridge Regression R2: {ridge_r2}\")"
   ]
  },
  {
   "cell_type": "markdown",
   "metadata": {},
   "source": [
    "# visualization:"
   ]
  },
  {
   "cell_type": "code",
   "execution_count": 27,
   "metadata": {
    "tags": []
   },
   "outputs": [
    {
     "data": {
      "image/png": "[encoded data removed]",
      "text/plain": [
       "<Figure size 1200x600 with 1 Axes>"
      ]
     },
     "metadata": {},
     "output_type": "display_data"
    }
   ],
   "source": [
    "import matplotlib.pyplot as plt\n",
    "import seaborn as sns\n",
    "\n",
    "# Set seaborn style\n",
    "sns.set(style=\"whitegrid\")\n",
    "\n",
    "# Create a DataFrame for visualization\n",
    "results = pd.DataFrame({\n",
    "    'Actual': y_test,\n",
    "    'Linear Regression': linear_y_pred,\n",
    "    'SVR': svr_y_pred,\n",
    "    'Decision Tree Regression': tree_y_pred,\n",
    "    'Ridge Regression (CV)': ridge_y_pred\n",
    "})\n",
    "\n",
    "# Plot the results\n",
    "plt.figure(figsize=(12, 6))\n",
    "\n",
    "for model in results.columns[1:]:\n",
    "    sns.scatterplot(x='Actual', y=model, data=results, label=model)\n",
    "\n",
    "# Plot the identity line (y=x)\n",
    "plt.plot([min(y_test), max(y_test)], [min(y_test), max(y_test)], linestyle='--', color='black', label='Identity Line')\n",
    "\n",
    "plt.title('Regression Model Comparison')\n",
    "plt.xlabel('Actual MPG')\n",
    "plt.ylabel('Predicted MPG')\n",
    "plt.legend()\n",
    "plt.show()"
   ]
  },
  {
   "cell_type": "code",
   "execution_count": null,
   "metadata": {},
   "outputs": [],
   "source": []
  }
 ],
 "metadata": {
  "colab": {
   "provenance": []
  },
  "kernelspec": {
   "display_name": "Python 3 (ipykernel)",
   "language": "python",
   "name": "python3"
  },
  "language_info": {
   "codemirror_mode": {
    "name": "ipython",
    "version": 3
   },
   "file_extension": ".py",
   "mimetype": "text/x-python",
   "name": "python",
   "nbconvert_exporter": "python",
   "pygments_lexer": "ipython3",
   "version": "3.11.4"
  }
 },
 "nbformat": 4,
 "nbformat_minor": 4
}
